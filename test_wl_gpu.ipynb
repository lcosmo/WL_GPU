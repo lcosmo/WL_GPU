{
 "cells": [
  {
   "cell_type": "code",
   "execution_count": 1,
   "id": "2658df20",
   "metadata": {},
   "outputs": [],
   "source": [
    "import sys\n",
    "sys.path.append('./src')"
   ]
  },
  {
   "cell_type": "code",
   "execution_count": null,
   "id": "9857434a",
   "metadata": {},
   "outputs": [],
   "source": []
  },
  {
   "cell_type": "code",
   "execution_count": 2,
   "id": "adba2daa",
   "metadata": {},
   "outputs": [],
   "source": [
    "import time\n",
    "import numpy as np\n",
    "\n",
    "import torch\n",
    "from torch_geometric.data import Batch\n",
    "from torch_geometric.datasets import TUDataset"
   ]
  },
  {
   "cell_type": "code",
   "execution_count": 3,
   "id": "f01e88b1",
   "metadata": {},
   "outputs": [],
   "source": [
    "dataset = TUDataset('tempdata/', name='ENZYMES')\n",
    "data1 = Batch.from_data_list(dataset[:300])\n",
    "data2 = Batch.from_data_list(dataset[300:])"
   ]
  },
  {
   "cell_type": "code",
   "execution_count": 4,
   "id": "c33736a1",
   "metadata": {},
   "outputs": [],
   "source": [
    "#create egonets\n",
    "def togk(data, bi):\n",
    "# bi=1\n",
    "    m = np.nonzero(data.batch==bi)\n",
    "    x = data.x[m]\n",
    "#     edg = torch.stack([d for d in data.edge_index.t() if min(d[0],d[1])>=m[0] and max(d[0],d[1])<=m[-1]],0)\n",
    "#     edg = edg-m[0]\n",
    "    em = ((data.edge_index>=m[0]) * (data.edge_index<=m[-1])).all(0)\n",
    "    edg = data.edge_index[:,em].t()-m[0]\n",
    "    return set([tuple(e) for e in edg.numpy()] + [(e[1],e[0]) for e in edg.numpy()] + [(i,i) for i in range(len(m))]), dict(enumerate(x.argmax(-1)[:,0].numpy()))\n",
    "\n",
    "Gs1 = [togk(data1,bi) for bi in range(data1.y.shape[0])]\n",
    "Gs2 = [togk(data2,bi) for bi in range(data2.y.shape[0])]\n"
   ]
  },
  {
   "cell_type": "code",
   "execution_count": 5,
   "id": "8cc30774",
   "metadata": {},
   "outputs": [
    {
     "name": "stdout",
     "output_type": "stream",
     "text": [
      "Fit & transform n times\n",
      "5.066545724868774\n",
      "Fit once & transform n times\n",
      "2.264070749282837\n"
     ]
    }
   ],
   "source": [
    "from WL_gpu import WL\n",
    "\n",
    "device='cuda'\n",
    "wl = WL(num_layers=3)\n",
    "\n",
    "X1 = data1.x.argmax(-1).to(device)\n",
    "E1 = data1.edge_index.to(device)\n",
    "B1 =  data1.batch.to(device)\n",
    "\n",
    "X2 = data2.x.argmax(-1).to(device)\n",
    "E2 = data2.edge_index.to(device)\n",
    "B2 =  data2.batch.to(device)\n",
    "\n",
    "wl = WL(3)\n",
    "#warmup\n",
    "wl.fit((X1,E1,B1))\n",
    "\n",
    "\n",
    "print(\"Fit & transform n times\")\n",
    "t=time.time()\n",
    "for i in range(10):\n",
    "    wl.fit((X1,E1,B1))\n",
    "    sim_self_gpu = wl.transform((X1,E1,B1))\n",
    "    sim_gpu = wl.transform((X2,E2,B2))\n",
    "print(time.time()-t)\n",
    "\n",
    "print(\"Fit once & transform n times\")\n",
    "t=time.time()\n",
    "wl.fit((X1,E1,B1))\n",
    "for i in range(10):\n",
    "    sim_self_gpu = wl.transform((X1,E1,B1))\n",
    "    sim_gpu = wl.transform((X2,E2,B2))\n",
    "print(time.time()-t)\n"
   ]
  },
  {
   "cell_type": "code",
   "execution_count": 6,
   "id": "9e1cbb75",
   "metadata": {},
   "outputs": [
    {
     "name": "stdout",
     "output_type": "stream",
     "text": [
      "Fit & transform n times\n",
      "6.560385227203369\n",
      "Fit once & transform n times\n",
      "5.238116025924683\n"
     ]
    }
   ],
   "source": [
    "from grakel.kernels import WeisfeilerLehman\n",
    "wl = WeisfeilerLehman(n_iter=3, normalize=True)\n",
    "\n",
    "print(\"Fit & transform n times\")\n",
    "t=time.time()\n",
    "for i in range(10):\n",
    "    wl.fit(Gs1)\n",
    "    sim_self_gk = wl.transform(Gs1).T\n",
    "    sim_gk = wl.transform(Gs2).T\n",
    "print(time.time()-t)\n",
    "\n",
    "print(\"Fit once & transform n times\")\n",
    "t=time.time()\n",
    "wl.fit(Gs1)\n",
    "for i in range(10):\n",
    "    sim_self_gk = wl.transform(Gs1).T\n",
    "    sim_gk = wl.transform(Gs2).T\n",
    "print(time.time()-t)\n"
   ]
  },
  {
   "cell_type": "code",
   "execution_count": 7,
   "id": "e3ff5fac",
   "metadata": {},
   "outputs": [
    {
     "data": {
      "text/plain": [
       "tensor([[1.0000, 0.8005, 0.8063,  ..., 0.5853, 0.7059, 0.6917],\n",
       "        [0.8005, 1.0000, 0.7670,  ..., 0.5342, 0.7214, 0.6610],\n",
       "        [0.8063, 0.7670, 1.0000,  ..., 0.4188, 0.6705, 0.5641],\n",
       "        ...,\n",
       "        [0.5853, 0.5342, 0.4188,  ..., 1.0000, 0.6883, 0.7977],\n",
       "        [0.7059, 0.7214, 0.6705,  ..., 0.6883, 1.0000, 0.8200],\n",
       "        [0.6917, 0.6610, 0.5641,  ..., 0.7977, 0.8200, 1.0000]],\n",
       "       device='cuda:0')"
      ]
     },
     "metadata": {},
     "output_type": "display_data"
    },
    {
     "data": {
      "text/plain": [
       "tensor([[1.0000, 0.8005, 0.8063,  ..., 0.5853, 0.7059, 0.6921],\n",
       "        [0.8005, 1.0000, 0.7670,  ..., 0.5342, 0.7214, 0.6614],\n",
       "        [0.8063, 0.7670, 1.0000,  ..., 0.4188, 0.6705, 0.5644],\n",
       "        ...,\n",
       "        [0.5853, 0.5342, 0.4188,  ..., 1.0000, 0.6883, 0.7982],\n",
       "        [0.7059, 0.7214, 0.6705,  ..., 0.6883, 1.0000, 0.8205],\n",
       "        [0.6921, 0.6614, 0.5644,  ..., 0.7982, 0.8205, 1.0000]],\n",
       "       dtype=torch.float64)"
      ]
     },
     "metadata": {},
     "output_type": "display_data"
    }
   ],
   "source": [
    "display(sim_self_gpu)\n",
    "display(torch.tensor(sim_self_gk))"
   ]
  },
  {
   "cell_type": "code",
   "execution_count": 8,
   "id": "89f70724",
   "metadata": {},
   "outputs": [
    {
     "data": {
      "text/plain": [
       "tensor([[0.8881, 0.8775, 0.8761,  ..., 0.6911, 0.8061, 0.7627],\n",
       "        [0.8280, 0.8281, 0.8240,  ..., 0.6453, 0.7636, 0.7271],\n",
       "        [0.8516, 0.8308, 0.8496,  ..., 0.5540, 0.7277, 0.6864],\n",
       "        ...,\n",
       "        [0.4890, 0.5035, 0.4528,  ..., 0.8353, 0.7198, 0.7040],\n",
       "        [0.6952, 0.7050, 0.6684,  ..., 0.7858, 0.8230, 0.8022],\n",
       "        [0.6495, 0.6625, 0.6165,  ..., 0.8899, 0.7959, 0.7758]],\n",
       "       device='cuda:0')"
      ]
     },
     "metadata": {},
     "output_type": "display_data"
    },
    {
     "data": {
      "text/plain": [
       "tensor([[0.8881, 0.8734, 0.8728,  ..., 0.6915, 0.8046, 0.7571],\n",
       "        [0.8280, 0.8243, 0.8209,  ..., 0.6456, 0.7621, 0.7217],\n",
       "        [0.8516, 0.8269, 0.8464,  ..., 0.5543, 0.7263, 0.6813],\n",
       "        ...,\n",
       "        [0.4890, 0.5011, 0.4511,  ..., 0.8357, 0.7184, 0.6989],\n",
       "        [0.6952, 0.7017, 0.6659,  ..., 0.7862, 0.8214, 0.7963],\n",
       "        [0.6499, 0.6598, 0.6145,  ..., 0.8909, 0.7949, 0.7706]],\n",
       "       dtype=torch.float64)"
      ]
     },
     "metadata": {},
     "output_type": "display_data"
    }
   ],
   "source": [
    " #to save computation, normalization is approximated and in case there isn't any isometric graph, it could lead to slightly different results.\n",
    "display(sim_gpu)\n",
    "display(torch.tensor(sim_gk)) "
   ]
  },
  {
   "cell_type": "code",
   "execution_count": null,
   "id": "745596aa",
   "metadata": {},
   "outputs": [],
   "source": []
  }
 ],
 "metadata": {
  "kernelspec": {
   "display_name": "Python [conda env:pyG1]",
   "language": "python",
   "name": "conda-env-pyG1-py"
  },
  "language_info": {
   "codemirror_mode": {
    "name": "ipython",
    "version": 3
   },
   "file_extension": ".py",
   "mimetype": "text/x-python",
   "name": "python",
   "nbconvert_exporter": "python",
   "pygments_lexer": "ipython3",
   "version": "3.8.16"
  }
 },
 "nbformat": 4,
 "nbformat_minor": 5
}
